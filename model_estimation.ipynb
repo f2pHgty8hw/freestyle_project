{
 "cells": [
  {
   "attachments": {},
   "cell_type": "markdown",
   "metadata": {},
   "source": [
    "# Logit Model Estimation"
   ]
  },
  {
   "cell_type": "code",
   "execution_count": 1,
   "metadata": {},
   "outputs": [],
   "source": [
    "import pandas as pd\n",
    "import numpy as np\n",
    "from sklearn.linear_model import LogisticRegression\n",
    "from sklearn.metrics import mean_squared_error, log_loss\n",
    "import pickle\n",
    "from tkinter import Tk, StringVar, OptionMenu, mainloop"
   ]
  },
  {
   "cell_type": "code",
   "execution_count": 8,
   "metadata": {},
   "outputs": [],
   "source": [
    "# Import data\n",
    "df = pd.read_stata('/Users/nbs/Documents/Georgetown/Semester 5/1 Courses/OPIM 244/freestyle_project/primary_sample.dta')\n",
    "\n",
    "# Extract variables of interest\n",
    "df = df[['year', 'school', 'admit', 'gpa', 'lsat', 'urm', 'fee_waived', 'non_trad', 'intl']]\n",
    "\n",
    "# Drop observations with missing variables\n",
    "df = df.dropna(axis='index') # Drop missing\n",
    "\n",
    "# Convert year, school to dummies for TWFE\n",
    "df = pd.get_dummies(df, columns=['year', 'school'], drop_first=True) # First column is dropped to prevent collinearity\n",
    "\n",
    "# Clean up\n",
    "df = df.replace(['False', 'True'], [0, 1])"
   ]
  },
  {
   "attachments": {},
   "cell_type": "markdown",
   "metadata": {},
   "source": [
    "# Model: Logit"
   ]
  },
  {
   "cell_type": "code",
   "execution_count": 9,
   "metadata": {},
   "outputs": [],
   "source": [
    "# Define features and outcome\n",
    "y = df['admit'].ravel()\n",
    "X = df.drop(['admit'], axis=1)"
   ]
  },
  {
   "cell_type": "code",
   "execution_count": null,
   "metadata": {},
   "outputs": [],
   "source": [
    "# Define model\n",
    "model = LogisticRegression(n_jobs=-1, max_iter=10000, solver='sag')\n",
    "model.fit(X, y)\n",
    "\n",
    "# Predict admit\n",
    "y_hat = np.array([i for i in model.predict(X)])\n",
    "\n",
    "# Print outputs\n",
    "print('Coefficients')\n",
    "[print(a, ':', round(b, 3)) for a, b in zip(model.feature_names_in_[0:6], model.coef_.flatten()[0:6])]\n",
    "print('')\n",
    "\n",
    "print('Intercept:', round(model.intercept_.item(), 3), '\\n')\n",
    "\n",
    "print('Goodness of Fit')\n",
    "print('Cross Entropy (Log Loss):', round(log_loss(y, y_hat), 3))\n",
    "print('Accuracy:', round(model.score(X, y), 3))\n",
    "print('MSE:', round(mean_squared_error(y, y_hat), 3))"
   ]
  },
  {
   "cell_type": "code",
   "execution_count": null,
   "metadata": {},
   "outputs": [],
   "source": [
    "# Save model\n",
    "pickle.dump(model, open('logit.sav', 'wb'))\n",
    "\n",
    "# Save columns\n",
    "pickle.dump(list(df.columns), open('columns.pkl', 'wb'))"
   ]
  },
  {
   "attachments": {},
   "cell_type": "markdown",
   "metadata": {},
   "source": [
    "# Web App"
   ]
  },
  {
   "cell_type": "code",
   "execution_count": 2,
   "metadata": {},
   "outputs": [],
   "source": [
    "# Call pickle files\n",
    "columns = pickle.load(open('columns.pkl', 'rb'))\n",
    "model = pickle.load(open('logit.sav', 'rb'))\n",
    "\n",
    "# Define relevant variables\n",
    "schools = [i.strip('school_') for i in list(columns) if 'school_' in i]\n",
    "years = [i for i in list(columns) if 'year_' in i]"
   ]
  },
  {
   "attachments": {},
   "cell_type": "markdown",
   "metadata": {},
   "source": [
    "### User Inputs"
   ]
  },
  {
   "cell_type": "code",
   "execution_count": 33,
   "metadata": {},
   "outputs": [],
   "source": [
    "# School (note: I consulted https://www.geeksforgeeks.org/tkinter-optionmenu-widget/ for this question)\n",
    "root = Tk()\n",
    "school = StringVar(root)\n",
    "question_menu = OptionMenu(root, school, *schools)\n",
    "question_menu.pack()\n",
    "mainloop()\n",
    "school = school.get()\n",
    "\n",
    "# GPA\n",
    "while True:\n",
    "    try:\n",
    "        gpa = float(input('Please input your undergraduate GPA: '))\n",
    "        if gpa>=0 and gpa<=4.3:\n",
    "            break\n",
    "    except:\n",
    "        print(\"Error. GPA must be between 0 and 4.3. Please try again.\")\n",
    "\n",
    "# LSAT\n",
    "while True:\n",
    "    try:\n",
    "        lsat = int(input('Please input your LSAT score: '))\n",
    "        if lsat>=120 and lsat<=180:\n",
    "            break\n",
    "    except:\n",
    "        print('Error. LSAT score is an integer between 120 and 180. Please try again.')\n",
    "\n",
    "# URM\n",
    "while True:\n",
    "    try:\n",
    "        urm = input('Are you black, Hispanic, and/or American Indian? (yes/no) ').upper()\n",
    "        if urm=='YES' or urm=='NO':\n",
    "            break\n",
    "    except:\n",
    "        print('Error. You answer must be yes or no. Please try again.')\n",
    "\n",
    "# Fee waived\n",
    "while True:\n",
    "    try:\n",
    "        fee_waived = input('Did you receive an application fee waiver? (yes/no) ').upper()\n",
    "        if fee_waived=='YES' or fee_waived=='NO':\n",
    "            break\n",
    "    except:\n",
    "        print('Error. You answer must be yes or no. Please try again.')\n",
    "\n",
    "# Non-traditional\n",
    "while True:\n",
    "    try:\n",
    "        non_trad = input('Do you consider yourself a non-traditional student? (yes/no) ').upper()\n",
    "        if non_trad=='YES' or non_trad=='NO':\n",
    "            break\n",
    "    except:\n",
    "        print('Error. You answer must be yes or no. Please try again.')\n",
    "\n",
    "# International\n",
    "while True:\n",
    "    try:\n",
    "        intl = input('Are you an international student? (yes/no) ').upper()\n",
    "        if intl=='YES' or intl=='NO':\n",
    "            break\n",
    "    except:\n",
    "        print('Error. You answer must be yes or no. Please try again.')"
   ]
  },
  {
   "attachments": {},
   "cell_type": "markdown",
   "metadata": {},
   "source": [
    "### User Prediction"
   ]
  },
  {
   "cell_type": "code",
   "execution_count": 85,
   "metadata": {},
   "outputs": [
    {
     "name": "stdout",
     "output_type": "stream",
     "text": [
      "You have a 55% chance of being admitted to Harvard University for law school. Good luck!\n"
     ]
    }
   ],
   "source": [
    "user = pd.DataFrame(\n",
    "\n",
    "    np.array(\n",
    "\n",
    "        [0 if i=='NO' else 1 if i=='YES' else i for i in [gpa, lsat, urm, fee_waived, non_trad, intl]]\n",
    "        + [1 if i=='year_2023' else 0 for i in years]\n",
    "        + [1 if i==school else 0 for i in schools]\n",
    "    \n",
    "    ).reshape(1, -1), \n",
    "\n",
    "    columns=columns[1:]\n",
    ")\n",
    "\n",
    "prob = int(100 * model.predict_proba(user).flatten()[1])\n",
    "print('You have a ' + str(prob) + '% ' + 'chance of being admitted to ' + school.title() + ' for law school. Good luck!')"
   ]
  }
 ],
 "metadata": {
  "kernelspec": {
   "display_name": "Python 3",
   "language": "python",
   "name": "python3"
  },
  "language_info": {
   "codemirror_mode": {
    "name": "ipython",
    "version": 3
   },
   "file_extension": ".py",
   "mimetype": "text/x-python",
   "name": "python",
   "nbconvert_exporter": "python",
   "pygments_lexer": "ipython3",
   "version": "3.10.8"
  },
  "orig_nbformat": 4,
  "vscode": {
   "interpreter": {
    "hash": "ec74596bdc09712819f05e6e203304ba4326b4fb60f38834a366bba34bb99504"
   }
  }
 },
 "nbformat": 4,
 "nbformat_minor": 2
}

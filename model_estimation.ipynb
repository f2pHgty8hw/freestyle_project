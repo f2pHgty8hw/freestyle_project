{
 "cells": [
  {
   "cell_type": "code",
   "execution_count": 2,
   "metadata": {},
   "outputs": [],
   "source": [
    "import pandas as pd\n",
    "import numpy as np\n",
    "from sklearn.linear_model import LogisticRegression\n",
    "from sklearn.metrics import mean_squared_error, log_loss\n",
    "import pickle"
   ]
  },
  {
   "cell_type": "code",
   "execution_count": 3,
   "metadata": {},
   "outputs": [],
   "source": [
    "# Import data\n",
    "df = pd.read_stata('primary_sample.csv')\n",
    "\n",
    "# Extract variables of interest\n",
    "df = df[['year', 'school', 'admit', 'gpa', 'lsat', 'urm', 'fee_waived', 'non_trad', 'intl']]\n",
    "\n",
    "# Drop observations with missing variables\n",
    "df = df.dropna(axis='index') # Drop missing\n",
    "\n",
    "# Convert year, school to dummies for TWFE\n",
    "df = pd.get_dummies(df, columns=['year', 'school'], drop_first=True) # First column is dropped to prevent collinearity\n",
    "\n",
    "# Clean up\n",
    "df = df.replace(['False', 'True'], [0, 1])"
   ]
  },
  {
   "cell_type": "code",
   "execution_count": 4,
   "metadata": {},
   "outputs": [],
   "source": [
    "# Define features and outcome\n",
    "y = df['admit'].ravel()\n",
    "X = df.drop(['admit'], axis=1)"
   ]
  },
  {
   "cell_type": "code",
   "execution_count": 5,
   "metadata": {},
   "outputs": [
    {
     "name": "stdout",
     "output_type": "stream",
     "text": [
      "Coefficients\n",
      "gpa : 3.424\n",
      "lsat : 0.315\n",
      "urm : 1.341\n",
      "fee_waived : 0.334\n",
      "non_trad : -0.076\n",
      "intl : -0.623\n",
      "\n",
      "Intercept: -59.135 \n",
      "\n",
      "Goodness of Fit\n",
      "Cross Entropy (Log Loss): 4.314\n",
      "Accuracy: 0.88\n",
      "MSE: 0.12\n"
     ]
    }
   ],
   "source": [
    "# Define model\n",
    "model = LogisticRegression(n_jobs=-1, max_iter=10000, solver='sag')\n",
    "model.fit(X, y)\n",
    "\n",
    "# Predict admit\n",
    "y_hat = np.array([i for i in model.predict(X)])\n",
    "\n",
    "# Print outputs\n",
    "print('Coefficients')\n",
    "[print(a, ':', round(b, 3)) for a, b in zip(model.feature_names_in_[0:6], model.coef_.flatten()[0:6])]\n",
    "print('')\n",
    "\n",
    "print('Intercept:', round(model.intercept_.item(), 3), '\\n')\n",
    "\n",
    "print('Goodness of Fit')\n",
    "print('Cross Entropy (Log Loss):', round(log_loss(y, y_hat), 3))\n",
    "print('Accuracy:', round(model.score(X, y), 3))\n",
    "print('MSE:', round(mean_squared_error(y, y_hat), 3))"
   ]
  },
  {
   "cell_type": "code",
   "execution_count": 6,
   "metadata": {},
   "outputs": [],
   "source": [
    "# Save model\n",
    "pickle.dump(model, open('logit.sav', 'wb'))\n",
    "\n",
    "# Save columns\n",
    "pickle.dump(list(df.columns), open('columns.pkl', 'wb'))"
   ]
  }
 ],
 "metadata": {
  "kernelspec": {
   "display_name": "Python 3",
   "language": "python",
   "name": "python3"
  },
  "language_info": {
   "codemirror_mode": {
    "name": "ipython",
    "version": 3
   },
   "file_extension": ".py",
   "mimetype": "text/x-python",
   "name": "python",
   "nbconvert_exporter": "python",
   "pygments_lexer": "ipython3",
   "version": "3.10.8 (main, Nov 24 2022, 08:09:04) [Clang 14.0.6 ]"
  },
  "orig_nbformat": 4,
  "vscode": {
   "interpreter": {
    "hash": "ec74596bdc09712819f05e6e203304ba4326b4fb60f38834a366bba34bb99504"
   }
  }
 },
 "nbformat": 4,
 "nbformat_minor": 2
}
